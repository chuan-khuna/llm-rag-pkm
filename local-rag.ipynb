{
 "cells": [
  {
   "cell_type": "code",
   "execution_count": 2,
   "metadata": {},
   "outputs": [],
   "source": [
    "from dotenv import load_dotenv\n",
    "\n",
    "load_dotenv()\n",
    "\n",
    "import os\n",
    "import pandas as pd"
   ]
  },
  {
   "cell_type": "code",
   "execution_count": 3,
   "metadata": {},
   "outputs": [],
   "source": [
    "from langchain_ollama import ChatOllama"
   ]
  },
  {
   "cell_type": "markdown",
   "metadata": {},
   "source": [
    "# Load Ollama Model\n"
   ]
  },
  {
   "cell_type": "code",
   "execution_count": 4,
   "metadata": {},
   "outputs": [],
   "source": [
    "llm_model_name = \"llama3.2:1b-instruct-fp16\"\n",
    "\n",
    "llm = ChatOllama(model=llm_model_name, temperature=0)\n",
    "llm_json_mode = ChatOllama(model=llm_model_name, temperature=0, format=\"json\")"
   ]
  },
  {
   "cell_type": "code",
   "execution_count": 5,
   "metadata": {},
   "outputs": [],
   "source": [
    "from langchain.text_splitter import RecursiveCharacterTextSplitter\n",
    "from src.utils.chroma import get_chroma_client\n",
    "\n",
    "from langchain_chroma import Chroma\n",
    "from langchain_ollama import OllamaEmbeddings"
   ]
  },
  {
   "cell_type": "code",
   "execution_count": 6,
   "metadata": {},
   "outputs": [],
   "source": [
    "embedding_model_name = \"nomic-embed-text:latest\"\n",
    "embedding_model = OllamaEmbeddings(model=embedding_model_name)"
   ]
  },
  {
   "cell_type": "code",
   "execution_count": 7,
   "metadata": {},
   "outputs": [],
   "source": [
    "vector_collection_name = \"local_rag\"\n",
    "\n",
    "\n",
    "chroma_client = get_chroma_client(\n",
    "    host=os.environ.get(\"CHROMA_HOST\"),\n",
    "    port=os.environ.get(\"CHROMA_PORT\"),\n",
    "    auth_token=os.environ.get(\"CHROMA_SERVER_AUTHN_CREDENTIALS\"),\n",
    ")\n",
    "\n",
    "# clear collection\n",
    "# try:\n",
    "#     chroma_client.delete_collection(vector_collection_name)\n",
    "#     print(f\"Deleted collection {vector_collection_name}\")\n",
    "# except:\n",
    "#     print(f\"Collection {vector_collection_name} does not exist\")\n",
    "#     pass\n",
    "\n",
    "\n",
    "vectorstore = Chroma(\n",
    "    client=chroma_client, collection_name=vector_collection_name, embedding_function=embedding_model\n",
    ")"
   ]
  },
  {
   "cell_type": "code",
   "execution_count": 8,
   "metadata": {},
   "outputs": [],
   "source": [
    "retriever = vectorstore.as_retriever(k=10)"
   ]
  },
  {
   "cell_type": "markdown",
   "metadata": {},
   "source": [
    "# Indexing\n"
   ]
  },
  {
   "cell_type": "code",
   "execution_count": 9,
   "metadata": {},
   "outputs": [],
   "source": [
    "from src.utils.file_utils import list_all_files\n",
    "from langchain.text_splitter import RecursiveCharacterTextSplitter\n",
    "from langchain_text_splitters import markdown as markdown_textsplitter\n",
    "\n",
    "from langchain_core.documents import Document\n",
    "\n",
    "RAG_DATA_DIR = \"rag-data\""
   ]
  },
  {
   "cell_type": "code",
   "execution_count": 10,
   "metadata": {},
   "outputs": [],
   "source": [
    "splitter = markdown_textsplitter.MarkdownTextSplitter()"
   ]
  },
  {
   "cell_type": "code",
   "execution_count": 11,
   "metadata": {},
   "outputs": [],
   "source": [
    "md_files = list_all_files(RAG_DATA_DIR, '.md')\n",
    "\n",
    "df = pd.DataFrame(md_files, columns=['abs_path'])\n",
    "df['path'] = df['abs_path']"
   ]
  },
  {
   "cell_type": "code",
   "execution_count": 12,
   "metadata": {},
   "outputs": [],
   "source": [
    "# for _, row in df.iterrows():\n",
    "#     abs_path = row['abs_path']\n",
    "#     ref_path = row['path']\n",
    "\n",
    "#     with open(abs_path, 'r') as f:\n",
    "#         content = f.read()\n",
    "#         chunks = splitter.split_text(content)\n",
    "\n",
    "#         for chunk_idx, chunk in enumerate(chunks):\n",
    "#             metadata = {'file': ref_path, 'chunk_id': chunk_idx + 1}\n",
    "#             doc = chunk\n",
    "#             chunk_id = f'{ref_path}_{chunk_idx + 1}'\n",
    "\n",
    "#             doc_obj = Document(\n",
    "#                 page_content=chunk,\n",
    "#                 metadata={'file': ref_path, 'chunk_id': chunk_idx + 1},\n",
    "#                 id=chunk_id,\n",
    "#             )\n",
    "\n",
    "#             vectorstore.add_documents(documents=[doc_obj], ids=[chunk_id])"
   ]
  },
  {
   "cell_type": "code",
   "execution_count": 13,
   "metadata": {},
   "outputs": [
    {
     "data": {
      "text/plain": [
       "[Document(metadata={'chunk_id': 1, 'file': 'rag-data/work-garden-2024/Notes/Logseq-work/pages/Immutable.md'}, page_content='- [[Functional Programming]]'),\n",
       " Document(metadata={'chunk_id': 1, 'file': 'rag-data/work-garden-2024/Notes/Logseq-work/pages/Functional Programming Languages encourage using the functional style.md'}, page_content='- [[Functional Programming]]'),\n",
       " Document(metadata={'chunk_id': 1, 'file': 'rag-data/work-garden-2024/Daily Notes/2023-07-13.md'}, page_content='- [[Functional Programming]]\\n-'),\n",
       " Document(metadata={'chunk_id': 1, 'file': 'rag-data/work-garden-2024/Daily Notes/2023-09-16.md'}, page_content='- [[But what is Functional Programming]]'),\n",
       " Document(metadata={'chunk_id': 1, 'file': 'rag-data/work-garden-2024/Daily Notes/2024-04-13.md'}, page_content='[[Why Functional Programming Matters]]'),\n",
       " Document(metadata={'chunk_id': 1, 'file': 'rag-data/work-garden-2024/Daily Notes/2024-04-05.md'}, page_content='[[Dear functional Bros]]\\n[[Functional programming is a programming paradigm based on few ideas, such as No Side Effect, Immutable Data, Declarative Programming]]'),\n",
       " Document(metadata={'chunk_id': 1, 'file': 'rag-data/work-garden-2024/Daily Notes/2023-09-17.md'}, page_content='- [[2023-08-14 Session - But What is Functional Programming Language]]\\n-'),\n",
       " Document(metadata={'chunk_id': 1, 'file': 'rag-data/work-garden-2024/Notes/Logseq-work/pages/Idempotence.md'}, page_content='- `/ˌɪdɛmˈpoʊtəns/`\\n- related to [[But what is Functional Programming]]\\n-'),\n",
       " Document(metadata={'chunk_id': 1, 'file': 'rag-data/work-garden-2024/Daily Notes/2023-07-14.md'}, page_content='- [[Functional Programming]]\\n- [[Haskell]]'),\n",
       " Document(metadata={'chunk_id': 1, 'file': 'rag-data/work-garden-2024/Daily Notes/2023-07-12.md'}, page_content='- [[But what is Functional Programming]]\\n- https://www.youtube.com/watch?v=0if71HOyVjY&ab_channel=GOTOConferences Functional Programming in 40 Minutes')]"
      ]
     },
     "execution_count": 13,
     "metadata": {},
     "output_type": "execute_result"
    }
   ],
   "source": [
    "vectorstore.similarity_search(\"functional programming\", k=10)"
   ]
  },
  {
   "cell_type": "code",
   "execution_count": null,
   "metadata": {},
   "outputs": [],
   "source": [
    "res = retriever.invoke(\"How to choose colour for data visualisation\")"
   ]
  },
  {
   "cell_type": "code",
   "execution_count": 21,
   "metadata": {},
   "outputs": [],
   "source": [
    "res_dict = []\n",
    "for r in res:\n",
    "    res_dict.append(\n",
    "        {\n",
    "            'path': r.metadata.get('file'),\n",
    "            'chunk_id': r.metadata.get('chunk_id'),\n",
    "            'content': r.page_content,\n",
    "        }\n",
    "    )\n",
    "df = pd.DataFrame(res_dict)"
   ]
  },
  {
   "cell_type": "code",
   "execution_count": 20,
   "metadata": {},
   "outputs": [
    {
     "data": {
      "text/html": [
       "<div>\n",
       "<style scoped>\n",
       "    .dataframe tbody tr th:only-of-type {\n",
       "        vertical-align: middle;\n",
       "    }\n",
       "\n",
       "    .dataframe tbody tr th {\n",
       "        vertical-align: top;\n",
       "    }\n",
       "\n",
       "    .dataframe thead th {\n",
       "        text-align: right;\n",
       "    }\n",
       "</style>\n",
       "<table border=\"1\" class=\"dataframe\">\n",
       "  <thead>\n",
       "    <tr style=\"text-align: right;\">\n",
       "      <th></th>\n",
       "      <th>file</th>\n",
       "      <th>chunk_id</th>\n",
       "      <th>content</th>\n",
       "    </tr>\n",
       "  </thead>\n",
       "  <tbody>\n",
       "    <tr>\n",
       "      <th>0</th>\n",
       "      <td>rag-data/work-garden-2024/Notes/Logseq-work/pa...</td>\n",
       "      <td>1</td>\n",
       "      <td>- #[[§ 🧐 How to]]\\n- Inspired by [[John Burn-M...</td>\n",
       "    </tr>\n",
       "    <tr>\n",
       "      <th>1</th>\n",
       "      <td>rag-data/work-garden-2024/Daily Notes/2023-04-...</td>\n",
       "      <td>1</td>\n",
       "      <td>- If I have to recommend a book for data visua...</td>\n",
       "    </tr>\n",
       "    <tr>\n",
       "      <th>2</th>\n",
       "      <td>rag-data/work-garden-2024/Daily Notes/2023-11-...</td>\n",
       "      <td>1</td>\n",
       "      <td>- LATER Data visualisation suggestion by [[¶ D...</td>\n",
       "    </tr>\n",
       "    <tr>\n",
       "      <th>3</th>\n",
       "      <td>rag-data/work-garden-2024/Notes/Logseq-work/pa...</td>\n",
       "      <td>1</td>\n",
       "      <td>-\\n  &gt; most importantly, we can use variations...</td>\n",
       "    </tr>\n",
       "  </tbody>\n",
       "</table>\n",
       "</div>"
      ],
      "text/plain": [
       "                                                file  chunk_id  \\\n",
       "0  rag-data/work-garden-2024/Notes/Logseq-work/pa...         1   \n",
       "1  rag-data/work-garden-2024/Daily Notes/2023-04-...         1   \n",
       "2  rag-data/work-garden-2024/Daily Notes/2023-11-...         1   \n",
       "3  rag-data/work-garden-2024/Notes/Logseq-work/pa...         1   \n",
       "\n",
       "                                             content  \n",
       "0  - #[[§ 🧐 How to]]\\n- Inspired by [[John Burn-M...  \n",
       "1  - If I have to recommend a book for data visua...  \n",
       "2  - LATER Data visualisation suggestion by [[¶ D...  \n",
       "3  -\\n  > most importantly, we can use variations...  "
      ]
     },
     "execution_count": 20,
     "metadata": {},
     "output_type": "execute_result"
    }
   ],
   "source": [
    "df"
   ]
  },
  {
   "cell_type": "code",
   "execution_count": null,
   "metadata": {},
   "outputs": [],
   "source": []
  }
 ],
 "metadata": {
  "kernelspec": {
   "display_name": "py312",
   "language": "python",
   "name": "python3"
  },
  "language_info": {
   "codemirror_mode": {
    "name": "ipython",
    "version": 3
   },
   "file_extension": ".py",
   "mimetype": "text/x-python",
   "name": "python",
   "nbconvert_exporter": "python",
   "pygments_lexer": "ipython3",
   "version": "3.12.4"
  }
 },
 "nbformat": 4,
 "nbformat_minor": 2
}
